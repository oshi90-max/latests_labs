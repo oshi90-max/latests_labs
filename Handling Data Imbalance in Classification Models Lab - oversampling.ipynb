{
 "cells": [
  {
   "cell_type": "code",
   "execution_count": 72,
   "id": "932e968e",
   "metadata": {},
   "outputs": [],
   "source": [
    "import pandas as pd\n",
    "import numpy as np\n",
    "import matplotlib.pyplot as plt\n",
    "import seaborn as sns "
   ]
  },
  {
   "cell_type": "code",
   "execution_count": 73,
   "id": "9725bd9a",
   "metadata": {},
   "outputs": [],
   "source": [
    "numerical = pd.read_csv('numerical.csv')\n",
    "categorical = pd.read_csv('categorical.csv')\n",
    "targets = pd.read_csv('target.csv')"
   ]
  },
  {
   "cell_type": "code",
   "execution_count": 74,
   "id": "f561f16d",
   "metadata": {},
   "outputs": [],
   "source": [
    "from sklearn.preprocessing import MinMaxScaler\n",
    "scaler = MinMaxScaler()\n",
    "numerical_scaled = scaler.fit_transform(numerical)"
   ]
  },
  {
   "cell_type": "code",
   "execution_count": 75,
   "id": "911db6ad",
   "metadata": {},
   "outputs": [],
   "source": [
    "X = numerical_scaled\n",
    "y = targets['TARGET_B']\n",
    "\n",
    "from sklearn.feature_selection import SelectKBest\n",
    "from sklearn.feature_selection  import chi2\n",
    "kbest = SelectKBest(chi2, k=20).fit_transform(X, y)\n",
    "selected = pd.DataFrame(kbest)\n",
    "# selected.head()"
   ]
  },
  {
   "cell_type": "code",
   "execution_count": 111,
   "id": "7d7d1bb6",
   "metadata": {},
   "outputs": [],
   "source": [
    "# To check the scores\n",
    "model = SelectKBest(chi2, k=20).fit(X, y)\n",
    "df = pd.DataFrame(data = model.scores_, columns = ['score'])\n",
    "df['Column'] = numerical.columns\n",
    "\n",
    "# df.sort_values(by = ['score'], ascending = False).head(40)"
   ]
  },
  {
   "cell_type": "code",
   "execution_count": 77,
   "id": "a7220e5a",
   "metadata": {},
   "outputs": [],
   "source": [
    "nw_df =numerical[['RFA_2F','CARDGIFT','HVP1','ETH2','RP1','NGIFTALL','HV1','ETHC5','CARDPROM','NUMPROM','RP3','CLUSTER2','INCOME','IC15','MSA','CONTROLN','HHAS4','HC6','POBC2','MHUC1']]"
   ]
  },
  {
   "cell_type": "code",
   "execution_count": 78,
   "id": "8e50498a",
   "metadata": {},
   "outputs": [],
   "source": [
    "new_df = pd.DataFrame(nw_df)"
   ]
  },
  {
   "cell_type": "code",
   "execution_count": 79,
   "id": "29f96a8c",
   "metadata": {},
   "outputs": [],
   "source": [
    "all_data = pd.concat((new_df,targets),axis=1)\n",
    "data_B = all_data.drop(['TARGET_D'], axis=1)"
   ]
  },
  {
   "cell_type": "code",
   "execution_count": 80,
   "id": "8aa5f7b9",
   "metadata": {},
   "outputs": [],
   "source": [
    "# X/y split\n",
    "X = data_B.drop('TARGET_B',axis = 1)\n",
    "y = data_B['TARGET_B']"
   ]
  },
  {
   "cell_type": "code",
   "execution_count": 81,
   "id": "a9948a9e",
   "metadata": {},
   "outputs": [],
   "source": [
    "from sklearn.model_selection import train_test_split\n",
    "X_train, X_test, y_train, y_test = train_test_split(X, y)"
   ]
  },
  {
   "cell_type": "code",
   "execution_count": 82,
   "id": "a5fc0ac1",
   "metadata": {},
   "outputs": [],
   "source": [
    "train=pd.concat((X_train,y_train),axis=1)"
   ]
  },
  {
   "cell_type": "code",
   "execution_count": 83,
   "id": "49a08497",
   "metadata": {},
   "outputs": [],
   "source": [
    "train = pd.DataFrame(train)"
   ]
  },
  {
   "cell_type": "code",
   "execution_count": 84,
   "id": "a5c9cedd",
   "metadata": {},
   "outputs": [
    {
     "name": "stderr",
     "output_type": "stream",
     "text": [
      "C:\\Users\\moshi\\AppData\\Local\\Temp/ipykernel_29068/2834848187.py:3: UserWarning: Boolean Series key will be reindexed to match DataFrame index.\n",
      "  category_0 = train[data_B['TARGET_B'] == 0]\n",
      "C:\\Users\\moshi\\AppData\\Local\\Temp/ipykernel_29068/2834848187.py:4: UserWarning: Boolean Series key will be reindexed to match DataFrame index.\n",
      "  category_1 = train[data_B['TARGET_B'] == 1]\n"
     ]
    }
   ],
   "source": [
    "from sklearn.utils import resample\n",
    "\n",
    "category_0 = train[data_B['TARGET_B'] == 0]\n",
    "category_1 = train[data_B['TARGET_B'] == 1]"
   ]
  },
  {
   "cell_type": "code",
   "execution_count": 85,
   "id": "eb99507d",
   "metadata": {},
   "outputs": [],
   "source": [
    "#upsampling\n",
    "\n",
    "# we create a category 1 oversampeled. we are creating the same rows like in category 0\n",
    "category_1_oversampled = resample(category_1, \n",
    "                                  replace=True, \n",
    "                                  n_samples = len(category_0))"
   ]
  },
  {
   "cell_type": "code",
   "execution_count": 86,
   "id": "4d0fb6a1",
   "metadata": {},
   "outputs": [
    {
     "name": "stdout",
     "output_type": "stream",
     "text": [
      "(67925, 21)\n",
      "(67925, 21)\n"
     ]
    }
   ],
   "source": [
    "# and now we have the same shape\n",
    "print(category_0.shape)\n",
    "print(category_1_oversampled.shape)"
   ]
  },
  {
   "cell_type": "code",
   "execution_count": 87,
   "id": "33032a4d",
   "metadata": {},
   "outputs": [],
   "source": [
    "data_upsampled = pd.concat([category_0, category_1_oversampled], axis=0)"
   ]
  },
  {
   "cell_type": "code",
   "execution_count": 88,
   "id": "215fc296",
   "metadata": {},
   "outputs": [
    {
     "data": {
      "text/plain": [
       "0    67925\n",
       "1    67925\n",
       "Name: TARGET_B, dtype: int64"
      ]
     },
     "execution_count": 88,
     "metadata": {},
     "output_type": "execute_result"
    }
   ],
   "source": [
    "data_upsampled['TARGET_B'].value_counts()"
   ]
  },
  {
   "cell_type": "code",
   "execution_count": 89,
   "id": "52f77be4",
   "metadata": {},
   "outputs": [],
   "source": [
    "X_train = data_upsampled.drop('TARGET_B',axis = 1)\n",
    "y_train = data_upsampled['TARGET_B']"
   ]
  },
  {
   "cell_type": "code",
   "execution_count": 90,
   "id": "5c129603",
   "metadata": {},
   "outputs": [
    {
     "data": {
      "text/html": [
       "<style>#sk-container-id-10 {color: black;background-color: white;}#sk-container-id-10 pre{padding: 0;}#sk-container-id-10 div.sk-toggleable {background-color: white;}#sk-container-id-10 label.sk-toggleable__label {cursor: pointer;display: block;width: 100%;margin-bottom: 0;padding: 0.3em;box-sizing: border-box;text-align: center;}#sk-container-id-10 label.sk-toggleable__label-arrow:before {content: \"▸\";float: left;margin-right: 0.25em;color: #696969;}#sk-container-id-10 label.sk-toggleable__label-arrow:hover:before {color: black;}#sk-container-id-10 div.sk-estimator:hover label.sk-toggleable__label-arrow:before {color: black;}#sk-container-id-10 div.sk-toggleable__content {max-height: 0;max-width: 0;overflow: hidden;text-align: left;background-color: #f0f8ff;}#sk-container-id-10 div.sk-toggleable__content pre {margin: 0.2em;color: black;border-radius: 0.25em;background-color: #f0f8ff;}#sk-container-id-10 input.sk-toggleable__control:checked~div.sk-toggleable__content {max-height: 200px;max-width: 100%;overflow: auto;}#sk-container-id-10 input.sk-toggleable__control:checked~label.sk-toggleable__label-arrow:before {content: \"▾\";}#sk-container-id-10 div.sk-estimator input.sk-toggleable__control:checked~label.sk-toggleable__label {background-color: #d4ebff;}#sk-container-id-10 div.sk-label input.sk-toggleable__control:checked~label.sk-toggleable__label {background-color: #d4ebff;}#sk-container-id-10 input.sk-hidden--visually {border: 0;clip: rect(1px 1px 1px 1px);clip: rect(1px, 1px, 1px, 1px);height: 1px;margin: -1px;overflow: hidden;padding: 0;position: absolute;width: 1px;}#sk-container-id-10 div.sk-estimator {font-family: monospace;background-color: #f0f8ff;border: 1px dotted black;border-radius: 0.25em;box-sizing: border-box;margin-bottom: 0.5em;}#sk-container-id-10 div.sk-estimator:hover {background-color: #d4ebff;}#sk-container-id-10 div.sk-parallel-item::after {content: \"\";width: 100%;border-bottom: 1px solid gray;flex-grow: 1;}#sk-container-id-10 div.sk-label:hover label.sk-toggleable__label {background-color: #d4ebff;}#sk-container-id-10 div.sk-serial::before {content: \"\";position: absolute;border-left: 1px solid gray;box-sizing: border-box;top: 0;bottom: 0;left: 50%;z-index: 0;}#sk-container-id-10 div.sk-serial {display: flex;flex-direction: column;align-items: center;background-color: white;padding-right: 0.2em;padding-left: 0.2em;position: relative;}#sk-container-id-10 div.sk-item {position: relative;z-index: 1;}#sk-container-id-10 div.sk-parallel {display: flex;align-items: stretch;justify-content: center;background-color: white;position: relative;}#sk-container-id-10 div.sk-item::before, #sk-container-id-10 div.sk-parallel-item::before {content: \"\";position: absolute;border-left: 1px solid gray;box-sizing: border-box;top: 0;bottom: 0;left: 50%;z-index: -1;}#sk-container-id-10 div.sk-parallel-item {display: flex;flex-direction: column;z-index: 1;position: relative;background-color: white;}#sk-container-id-10 div.sk-parallel-item:first-child::after {align-self: flex-end;width: 50%;}#sk-container-id-10 div.sk-parallel-item:last-child::after {align-self: flex-start;width: 50%;}#sk-container-id-10 div.sk-parallel-item:only-child::after {width: 0;}#sk-container-id-10 div.sk-dashed-wrapped {border: 1px dashed gray;margin: 0 0.4em 0.5em 0.4em;box-sizing: border-box;padding-bottom: 0.4em;background-color: white;}#sk-container-id-10 div.sk-label label {font-family: monospace;font-weight: bold;display: inline-block;line-height: 1.2em;}#sk-container-id-10 div.sk-label-container {text-align: center;}#sk-container-id-10 div.sk-container {/* jupyter's `normalize.less` sets `[hidden] { display: none; }` but bootstrap.min.css set `[hidden] { display: none !important; }` so we also need the `!important` here to be able to override the default hidden behavior on the sphinx rendered scikit-learn.org. See: https://github.com/scikit-learn/scikit-learn/issues/21755 */display: inline-block !important;position: relative;}#sk-container-id-10 div.sk-text-repr-fallback {display: none;}</style><div id=\"sk-container-id-10\" class=\"sk-top-container\"><div class=\"sk-text-repr-fallback\"><pre>DecisionTreeClassifier(max_depth=40)</pre><b>In a Jupyter environment, please rerun this cell to show the HTML representation or trust the notebook. <br />On GitHub, the HTML representation is unable to render, please try loading this page with nbviewer.org.</b></div><div class=\"sk-container\" hidden><div class=\"sk-item\"><div class=\"sk-estimator sk-toggleable\"><input class=\"sk-toggleable__control sk-hidden--visually\" id=\"sk-estimator-id-10\" type=\"checkbox\" checked><label for=\"sk-estimator-id-10\" class=\"sk-toggleable__label sk-toggleable__label-arrow\">DecisionTreeClassifier</label><div class=\"sk-toggleable__content\"><pre>DecisionTreeClassifier(max_depth=40)</pre></div></div></div></div></div>"
      ],
      "text/plain": [
       "DecisionTreeClassifier(max_depth=40)"
      ]
     },
     "execution_count": 90,
     "metadata": {},
     "output_type": "execute_result"
    }
   ],
   "source": [
    "from sklearn.tree import DecisionTreeClassifier\n",
    "model = DecisionTreeClassifier(max_depth=40)\n",
    "model.fit(X_train, y_train)"
   ]
  },
  {
   "cell_type": "code",
   "execution_count": 91,
   "id": "dcc34735",
   "metadata": {},
   "outputs": [
    {
     "name": "stdout",
     "output_type": "stream",
     "text": [
      "test data accuracy was  0.9008929694378066\n",
      "train data accuracy was  0.9989547294810452\n"
     ]
    }
   ],
   "source": [
    "print(\"test data accuracy was \",model.score(X_test,y_test))\n",
    "# 100% on training data\n",
    "print(\"train data accuracy was \",model.score(X_train,y_train))"
   ]
  },
  {
   "cell_type": "code",
   "execution_count": 92,
   "id": "8f72753d",
   "metadata": {},
   "outputs": [],
   "source": [
    "max_depth = range(1,30)\n",
    "test = []\n",
    "train = []\n",
    "\n",
    "for depth in max_depth:\n",
    "    model = DecisionTreeClassifier(max_depth=depth)\n",
    "    model.fit(X_train, y_train)\n",
    "    test.append(model.score(X_test,y_test))\n",
    "    train.append(model.score(X_train,y_train))"
   ]
  },
  {
   "cell_type": "code",
   "execution_count": 93,
   "id": "754d12da",
   "metadata": {},
   "outputs": [
    {
     "data": {
      "text/plain": [
       "<matplotlib.legend.Legend at 0x1c69a044cd0>"
      ]
     },
     "execution_count": 93,
     "metadata": {},
     "output_type": "execute_result"
    },
    {
     "data": {
      "image/png": "[encoded data removed]",
      "text/plain": [
       "<Figure size 432x288 with 1 Axes>"
      ]
     },
     "metadata": {
      "needs_background": "light"
     },
     "output_type": "display_data"
    }
   ],
   "source": [
    "import matplotlib.pyplot as plt\n",
    "plt.plot( train, label=\"training accuracy\")\n",
    "plt.plot( test, label=\"test accuracy\")\n",
    "plt.ylabel(\"Accuracy\")\n",
    "plt.xlabel(\"depth\")\n",
    "plt.legend()"
   ]
  },
  {
   "cell_type": "code",
   "execution_count": 94,
   "id": "c59bec4d",
   "metadata": {},
   "outputs": [
    {
     "data": {
      "text/html": [
       "<style>#sk-container-id-11 {color: black;background-color: white;}#sk-container-id-11 pre{padding: 0;}#sk-container-id-11 div.sk-toggleable {background-color: white;}#sk-container-id-11 label.sk-toggleable__label {cursor: pointer;display: block;width: 100%;margin-bottom: 0;padding: 0.3em;box-sizing: border-box;text-align: center;}#sk-container-id-11 label.sk-toggleable__label-arrow:before {content: \"▸\";float: left;margin-right: 0.25em;color: #696969;}#sk-container-id-11 label.sk-toggleable__label-arrow:hover:before {color: black;}#sk-container-id-11 div.sk-estimator:hover label.sk-toggleable__label-arrow:before {color: black;}#sk-container-id-11 div.sk-toggleable__content {max-height: 0;max-width: 0;overflow: hidden;text-align: left;background-color: #f0f8ff;}#sk-container-id-11 div.sk-toggleable__content pre {margin: 0.2em;color: black;border-radius: 0.25em;background-color: #f0f8ff;}#sk-container-id-11 input.sk-toggleable__control:checked~div.sk-toggleable__content {max-height: 200px;max-width: 100%;overflow: auto;}#sk-container-id-11 input.sk-toggleable__control:checked~label.sk-toggleable__label-arrow:before {content: \"▾\";}#sk-container-id-11 div.sk-estimator input.sk-toggleable__control:checked~label.sk-toggleable__label {background-color: #d4ebff;}#sk-container-id-11 div.sk-label input.sk-toggleable__control:checked~label.sk-toggleable__label {background-color: #d4ebff;}#sk-container-id-11 input.sk-hidden--visually {border: 0;clip: rect(1px 1px 1px 1px);clip: rect(1px, 1px, 1px, 1px);height: 1px;margin: -1px;overflow: hidden;padding: 0;position: absolute;width: 1px;}#sk-container-id-11 div.sk-estimator {font-family: monospace;background-color: #f0f8ff;border: 1px dotted black;border-radius: 0.25em;box-sizing: border-box;margin-bottom: 0.5em;}#sk-container-id-11 div.sk-estimator:hover {background-color: #d4ebff;}#sk-container-id-11 div.sk-parallel-item::after {content: \"\";width: 100%;border-bottom: 1px solid gray;flex-grow: 1;}#sk-container-id-11 div.sk-label:hover label.sk-toggleable__label {background-color: #d4ebff;}#sk-container-id-11 div.sk-serial::before {content: \"\";position: absolute;border-left: 1px solid gray;box-sizing: border-box;top: 0;bottom: 0;left: 50%;z-index: 0;}#sk-container-id-11 div.sk-serial {display: flex;flex-direction: column;align-items: center;background-color: white;padding-right: 0.2em;padding-left: 0.2em;position: relative;}#sk-container-id-11 div.sk-item {position: relative;z-index: 1;}#sk-container-id-11 div.sk-parallel {display: flex;align-items: stretch;justify-content: center;background-color: white;position: relative;}#sk-container-id-11 div.sk-item::before, #sk-container-id-11 div.sk-parallel-item::before {content: \"\";position: absolute;border-left: 1px solid gray;box-sizing: border-box;top: 0;bottom: 0;left: 50%;z-index: -1;}#sk-container-id-11 div.sk-parallel-item {display: flex;flex-direction: column;z-index: 1;position: relative;background-color: white;}#sk-container-id-11 div.sk-parallel-item:first-child::after {align-self: flex-end;width: 50%;}#sk-container-id-11 div.sk-parallel-item:last-child::after {align-self: flex-start;width: 50%;}#sk-container-id-11 div.sk-parallel-item:only-child::after {width: 0;}#sk-container-id-11 div.sk-dashed-wrapped {border: 1px dashed gray;margin: 0 0.4em 0.5em 0.4em;box-sizing: border-box;padding-bottom: 0.4em;background-color: white;}#sk-container-id-11 div.sk-label label {font-family: monospace;font-weight: bold;display: inline-block;line-height: 1.2em;}#sk-container-id-11 div.sk-label-container {text-align: center;}#sk-container-id-11 div.sk-container {/* jupyter's `normalize.less` sets `[hidden] { display: none; }` but bootstrap.min.css set `[hidden] { display: none !important; }` so we also need the `!important` here to be able to override the default hidden behavior on the sphinx rendered scikit-learn.org. See: https://github.com/scikit-learn/scikit-learn/issues/21755 */display: inline-block !important;position: relative;}#sk-container-id-11 div.sk-text-repr-fallback {display: none;}</style><div id=\"sk-container-id-11\" class=\"sk-top-container\"><div class=\"sk-text-repr-fallback\"><pre>DecisionTreeClassifier(max_depth=40)</pre><b>In a Jupyter environment, please rerun this cell to show the HTML representation or trust the notebook. <br />On GitHub, the HTML representation is unable to render, please try loading this page with nbviewer.org.</b></div><div class=\"sk-container\" hidden><div class=\"sk-item\"><div class=\"sk-estimator sk-toggleable\"><input class=\"sk-toggleable__control sk-hidden--visually\" id=\"sk-estimator-id-11\" type=\"checkbox\" checked><label for=\"sk-estimator-id-11\" class=\"sk-toggleable__label sk-toggleable__label-arrow\">DecisionTreeClassifier</label><div class=\"sk-toggleable__content\"><pre>DecisionTreeClassifier(max_depth=40)</pre></div></div></div></div></div>"
      ],
      "text/plain": [
       "DecisionTreeClassifier(max_depth=40)"
      ]
     },
     "execution_count": 94,
     "metadata": {},
     "output_type": "execute_result"
    }
   ],
   "source": [
    "model = DecisionTreeClassifier(max_depth = 40)\n",
    "model.fit(X_train, y_train)"
   ]
  },
  {
   "cell_type": "code",
   "execution_count": 59,
   "id": "11c88c14",
   "metadata": {},
   "outputs": [
    {
     "data": {
      "image/png": "[encoded data removed]",
      "text/plain": [
       "<Figure size 432x288 with 1 Axes>"
      ]
     },
     "metadata": {
      "needs_background": "light"
     },
     "output_type": "display_data"
    }
   ],
   "source": [
    "def plot_feature_importances(model):\n",
    "    n_features = X.shape[1]\n",
    "    plt.barh(range(n_features), model.feature_importances_, align='center')\n",
    "    plt.yticks(np.arange(n_features), X.columns)\n",
    "    plt.xlabel(\"Feature importance\")\n",
    "    plt.ylabel(\"Feature\")\n",
    "\n",
    "plot_feature_importances(model)"
   ]
  },
  {
   "cell_type": "code",
   "execution_count": null,
   "id": "7cdc2dc9",
   "metadata": {},
   "outputs": [],
   "source": [
    "# oversampling helped me get better test result but I had to use a big depth (40) and I don't know if it's wrong"
   ]
  },
  {
   "cell_type": "markdown",
   "id": "f2c3d8ab",
   "metadata": {},
   "source": [
    "# Random forest Lab"
   ]
  },
  {
   "cell_type": "code",
   "execution_count": 65,
   "id": "2826a6fe",
   "metadata": {},
   "outputs": [
    {
     "name": "stdout",
     "output_type": "stream",
     "text": [
      "0.9492726281809416\n",
      "0.9491468578375886\n"
     ]
    },
    {
     "data": {
      "text/plain": [
       "0    22640\n",
       "1     1213\n",
       "Name: TARGET_B, dtype: int64"
      ]
     },
     "metadata": {},
     "output_type": "display_data"
    },
    {
     "data": {
      "text/plain": [
       "array([[22640,     0],\n",
       "       [ 1213,     0]], dtype=int64)"
      ]
     },
     "metadata": {},
     "output_type": "display_data"
    }
   ],
   "source": [
    "#building a classification model:\n",
    "\n",
    "from sklearn.ensemble import RandomForestClassifier\n",
    "from sklearn.metrics import confusion_matrix\n",
    "\n",
    "#some are the same parameterd like in decision tree\n",
    "clf = RandomForestClassifier(max_depth=5,              #max number of questions\n",
    "                             min_samples_split=20,     # amount of rows still considerd at every question\n",
    "                             min_samples_leaf =20,     #ultimate answer based on at least this many rows\n",
    "                             max_samples=0.8,   #fraction of x-train to use in each tree, better to try and use smaller values usually\n",
    "                             random_state = 42)\n",
    "clf.fit(X_train, y_train)\n",
    "print(clf.score(X_train, y_train))\n",
    "print(clf.score(X_test, y_test))\n",
    "\n",
    "y_pred = clf.predict(X_test)\n",
    "display(y_test.value_counts())\n",
    "display(confusion_matrix(y_test, y_pred))"
   ]
  },
  {
   "cell_type": "code",
   "execution_count": 105,
   "id": "3d006541",
   "metadata": {},
   "outputs": [
    {
     "data": {
      "text/plain": [
       "dtype('int64')"
      ]
     },
     "execution_count": 105,
     "metadata": {},
     "output_type": "execute_result"
    }
   ],
   "source": [
    "# targets['TARGET_D'] = targets['TARGET_D'].apply(np.int64)\n",
    "# targets['TARGET_D'].dtype"
   ]
  },
  {
   "cell_type": "code",
   "execution_count": 106,
   "id": "e9fc598e",
   "metadata": {},
   "outputs": [],
   "source": [
    "# X = numerical_scaled\n",
    "# y = targets['TARGET_D']\n",
    "\n",
    "# from sklearn.feature_selection import SelectKBest\n",
    "# from sklearn.feature_selection  import chi2\n",
    "# kbest = SelectKBest(chi2, k=20).fit_transform(X, y)\n",
    "# selected = pd.DataFrame(kbest)\n",
    "# # selected.head()"
   ]
  },
  {
   "cell_type": "code",
   "execution_count": 110,
   "id": "32d4c1bd",
   "metadata": {},
   "outputs": [],
   "source": [
    "# # To check the scores\n",
    "# model = SelectKBest(chi2, k=20).fit(X, y)\n",
    "# df = pd.DataFrame(data = model.scores_, columns = ['score'])\n",
    "# df['Column'] = numerical.columns\n",
    "\n",
    "# # df.sort_values(by = ['score'], ascending = False).head(40)"
   ]
  },
  {
   "cell_type": "code",
   "execution_count": 108,
   "id": "fbbc27b4",
   "metadata": {},
   "outputs": [],
   "source": [
    "# df_d =numerical[['RFA_2F','HVP1','CARDGIFT','HVP6','RP1','NGIFTALL','POP90C2','HV1','HC15','HPHONE_D','CLUSTER2','IC23','POP90C3','ETH2','CARDPROM','LASTGIFT','DW6','INCOME','HUPA2']]"
   ]
  },
  {
   "cell_type": "code",
   "execution_count": 109,
   "id": "94bab069",
   "metadata": {},
   "outputs": [],
   "source": [
    "# df_d = pd.DataFrame(df_d)"
   ]
  },
  {
   "cell_type": "code",
   "execution_count": 112,
   "id": "15a6d3d6",
   "metadata": {},
   "outputs": [],
   "source": [
    "# all_data = pd.concat((df_d,targets),axis=1)\n",
    "# data_D = all_data.drop(['TARGET_B'], axis=1)"
   ]
  },
  {
   "cell_type": "code",
   "execution_count": 114,
   "id": "2d5113c8",
   "metadata": {},
   "outputs": [],
   "source": [
    "# # X/y split\n",
    "# X = data_D.drop('TARGET_D',axis = 1)\n",
    "# y = data_D['TARGET_D']"
   ]
  },
  {
   "cell_type": "code",
   "execution_count": 115,
   "id": "ef3c5f47",
   "metadata": {},
   "outputs": [],
   "source": [
    "# from sklearn.model_selection import train_test_split\n",
    "# X_train, X_test, y_train, y_test = train_test_split(X, y)"
   ]
  },
  {
   "cell_type": "code",
   "execution_count": 116,
   "id": "ec041896",
   "metadata": {},
   "outputs": [],
   "source": [
    "# train=pd.concat((X_train,y_train),axis=1)"
   ]
  },
  {
   "cell_type": "code",
   "execution_count": 117,
   "id": "a0c7238c",
   "metadata": {},
   "outputs": [],
   "source": [
    "# train = pd.DataFrame(train)"
   ]
  },
  {
   "cell_type": "code",
   "execution_count": 118,
   "id": "d2b00dc6",
   "metadata": {},
   "outputs": [],
   "source": [
    "# #upsampling\n",
    "\n",
    "# # we create a category 1 oversampeled. we are creating the same rows like in category 0\n",
    "# category_1_oversampled = resample(category_1, \n",
    "#                                   replace=True, \n",
    "#                                   n_samples = len(category_0))"
   ]
  },
  {
   "cell_type": "code",
   "execution_count": 119,
   "id": "133a3f05",
   "metadata": {},
   "outputs": [
    {
     "name": "stdout",
     "output_type": "stream",
     "text": [
      "(67925, 21)\n",
      "(67925, 21)\n"
     ]
    }
   ],
   "source": [
    "# # and now we have the same shape\n",
    "# print(category_0.shape)\n",
    "# print(category_1_oversampled.shape)"
   ]
  },
  {
   "cell_type": "code",
   "execution_count": 120,
   "id": "08204bb8",
   "metadata": {},
   "outputs": [],
   "source": [
    "# data_upsampled_d = pd.concat([category_0, category_1_oversampled], axis=0)"
   ]
  },
  {
   "cell_type": "code",
   "execution_count": null,
   "id": "d2dc02b0",
   "metadata": {},
   "outputs": [],
   "source": []
  }
 ],
 "metadata": {
  "kernelspec": {
   "display_name": "Python 3 (ipykernel)",
   "language": "python",
   "name": "python3"
  },
  "language_info": {
   "codemirror_mode": {
    "name": "ipython",
    "version": 3
   },
   "file_extension": ".py",
   "mimetype": "text/x-python",
   "name": "python",
   "nbconvert_exporter": "python",
   "pygments_lexer": "ipython3",
   "version": "3.9.7"
  }
 },
 "nbformat": 4,
 "nbformat_minor": 5
}
