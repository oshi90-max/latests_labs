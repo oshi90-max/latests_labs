{
 "cells": [
  {
   "cell_type": "code",
   "execution_count": 2,
   "id": "50d4a6d3",
   "metadata": {},
   "outputs": [],
   "source": [
    "import pandas as pd\n",
    "import numpy as np\n",
    "import statsmodels.api as sm\n",
    "import matplotlib.pyplot as plt\n",
    "import seaborn as sns "
   ]
  },
  {
   "cell_type": "markdown",
   "id": "cb281c49",
   "metadata": {},
   "source": [
    "# Feature selection \n",
    "<a class=\"anchor\" id=\"#1\"></a>"
   ]
  },
  {
   "cell_type": "code",
   "execution_count": 4,
   "id": "19fb017e",
   "metadata": {},
   "outputs": [],
   "source": [
    "target = pd.read_csv('target.csv')\n",
    "num = pd.read_csv('numerical.csv')\n",
    "cat = pd.read_csv('categorical.csv')"
   ]
  },
  {
   "cell_type": "code",
   "execution_count": 6,
   "id": "b68939cd",
   "metadata": {},
   "outputs": [],
   "source": [
    "all_data = pd.concat((num,target),axis=1)\n",
    "# all_data.head()\n",
    "donations_data = all_data[all_data['TARGET_B']==1] #numerical data for the people that have donated \n",
    "X = donations_data.drop(columns=['TARGET_B','TARGET_D'])\n",
    "y = donations_data['TARGET_D']\n"
   ]
  },
  {
   "cell_type": "code",
   "execution_count": 7,
   "id": "ebf7a190",
   "metadata": {},
   "outputs": [],
   "source": [
    "num = num[['RFA_2F','CARDGIFT','HVP1','ETH2','RP1','NGIFTALL','HV1'\n",
    "           ,'ETHC5','CARDPROM','NUMPROM','RP3','CLUSTER2','INCOME',\n",
    "           'IC15','CONTROLN','HHAS4','HC6','POBC2','MHUC1']]"
   ]
  },
  {
   "cell_type": "code",
   "execution_count": 8,
   "id": "b5ff4e59",
   "metadata": {},
   "outputs": [],
   "source": [
    "data_imbalanced = pd.concat([num, target.TARGET_B],axis=1)"
   ]
  },
  {
   "cell_type": "code",
   "execution_count": 9,
   "id": "c6c75a67",
   "metadata": {},
   "outputs": [],
   "source": [
    "data_imbalanced_2 = pd.concat([num, target.TARGET_D],axis=1)"
   ]
  },
  {
   "cell_type": "markdown",
   "id": "ff711965",
   "metadata": {},
   "source": [
    "# Imbalanced target\n",
    "<a class=\"anchor\" id=\"#3\"></a>"
   ]
  },
  {
   "cell_type": "code",
   "execution_count": 10,
   "id": "eb1bcf6a",
   "metadata": {},
   "outputs": [
    {
     "data": {
      "text/plain": [
       "0.9501110971366286"
      ]
     },
     "metadata": {},
     "output_type": "display_data"
    },
    {
     "data": {
      "text/plain": [
       "0.9465895275227435"
      ]
     },
     "metadata": {},
     "output_type": "display_data"
    }
   ],
   "source": [
    "from sklearn.model_selection import train_test_split\n",
    "from sklearn.preprocessing import MinMaxScaler\n",
    "from sklearn.linear_model import LogisticRegression\n",
    "\n",
    "####\n",
    "# train - test - split\n",
    "#####\n",
    "X_train, X_test, y_train, y_test = train_test_split(num, target.TARGET_B, test_size=0.25)\n",
    "\n",
    "####\n",
    "# scaling Xtrain in scaler\n",
    "#####\n",
    "transformer = MinMaxScaler().fit(X_train)\n",
    "## transforming Xtrain, Xtest\n",
    "num_train_minmax = transformer.transform(X_train)\n",
    "num_test_minmax = transformer.transform(X_test)\n",
    "\n",
    "#####\n",
    "# fitting train set in model\n",
    "######\n",
    "classifier = LogisticRegression(max_iter = 1000)\n",
    "classifier.fit(X_train, y_train)\n",
    "\n",
    "####\n",
    "# metrics\n",
    "#####\n",
    "display(classifier.score(X_train, y_train))\n",
    "display(classifier.score(X_test, y_test))"
   ]
  },
  {
   "cell_type": "markdown",
   "id": "444fc2ab",
   "metadata": {},
   "source": [
    "# Treating imbalance\n",
    "<a class=\"anchor\" id=\"#4\"></a>"
   ]
  },
  {
   "cell_type": "code",
   "execution_count": 12,
   "id": "f98e6856",
   "metadata": {},
   "outputs": [
    {
     "data": {
      "text/plain": [
       "0    90569\n",
       "1     4843\n",
       "Name: TARGET_B, dtype: int64"
      ]
     },
     "execution_count": 12,
     "metadata": {},
     "output_type": "execute_result"
    }
   ],
   "source": [
    "data = pd.concat([num,target.TARGET_B],axis=1)\n",
    "data.TARGET_B.value_counts()"
   ]
  },
  {
   "cell_type": "code",
   "execution_count": 14,
   "id": "f0b1090c",
   "metadata": {},
   "outputs": [
    {
     "data": {
      "text/html": [
       "<div>\n",
       "<style scoped>\n",
       "    .dataframe tbody tr th:only-of-type {\n",
       "        vertical-align: middle;\n",
       "    }\n",
       "\n",
       "    .dataframe tbody tr th {\n",
       "        vertical-align: top;\n",
       "    }\n",
       "\n",
       "    .dataframe thead th {\n",
       "        text-align: right;\n",
       "    }\n",
       "</style>\n",
       "<table border=\"1\" class=\"dataframe\">\n",
       "  <thead>\n",
       "    <tr style=\"text-align: right;\">\n",
       "      <th></th>\n",
       "      <th>RFA_2F</th>\n",
       "      <th>CARDGIFT</th>\n",
       "      <th>HVP1</th>\n",
       "      <th>ETH2</th>\n",
       "      <th>RP1</th>\n",
       "      <th>NGIFTALL</th>\n",
       "      <th>HV1</th>\n",
       "      <th>ETHC5</th>\n",
       "      <th>CARDPROM</th>\n",
       "      <th>NUMPROM</th>\n",
       "      <th>RP3</th>\n",
       "      <th>CLUSTER2</th>\n",
       "      <th>INCOME</th>\n",
       "      <th>IC15</th>\n",
       "      <th>CONTROLN</th>\n",
       "      <th>HHAS4</th>\n",
       "      <th>HC6</th>\n",
       "      <th>POBC2</th>\n",
       "      <th>MHUC1</th>\n",
       "      <th>TARGET_B</th>\n",
       "    </tr>\n",
       "  </thead>\n",
       "  <tbody>\n",
       "    <tr>\n",
       "      <th>0</th>\n",
       "      <td>4</td>\n",
       "      <td>14</td>\n",
       "      <td>2</td>\n",
       "      <td>1</td>\n",
       "      <td>2</td>\n",
       "      <td>31</td>\n",
       "      <td>479</td>\n",
       "      <td>0</td>\n",
       "      <td>27</td>\n",
       "      <td>74</td>\n",
       "      <td>17</td>\n",
       "      <td>39</td>\n",
       "      <td>5</td>\n",
       "      <td>4</td>\n",
       "      <td>95515</td>\n",
       "      <td>1</td>\n",
       "      <td>31</td>\n",
       "      <td>74</td>\n",
       "      <td>6</td>\n",
       "      <td>0</td>\n",
       "    </tr>\n",
       "    <tr>\n",
       "      <th>1</th>\n",
       "      <td>2</td>\n",
       "      <td>1</td>\n",
       "      <td>97</td>\n",
       "      <td>0</td>\n",
       "      <td>91</td>\n",
       "      <td>3</td>\n",
       "      <td>5468</td>\n",
       "      <td>0</td>\n",
       "      <td>12</td>\n",
       "      <td>32</td>\n",
       "      <td>91</td>\n",
       "      <td>1</td>\n",
       "      <td>6</td>\n",
       "      <td>2</td>\n",
       "      <td>148535</td>\n",
       "      <td>3</td>\n",
       "      <td>97</td>\n",
       "      <td>39</td>\n",
       "      <td>20</td>\n",
       "      <td>0</td>\n",
       "    </tr>\n",
       "    <tr>\n",
       "      <th>2</th>\n",
       "      <td>4</td>\n",
       "      <td>14</td>\n",
       "      <td>0</td>\n",
       "      <td>2</td>\n",
       "      <td>0</td>\n",
       "      <td>27</td>\n",
       "      <td>497</td>\n",
       "      <td>1</td>\n",
       "      <td>26</td>\n",
       "      <td>63</td>\n",
       "      <td>9</td>\n",
       "      <td>60</td>\n",
       "      <td>3</td>\n",
       "      <td>20</td>\n",
       "      <td>15078</td>\n",
       "      <td>11</td>\n",
       "      <td>50</td>\n",
       "      <td>84</td>\n",
       "      <td>9</td>\n",
       "      <td>0</td>\n",
       "    </tr>\n",
       "    <tr>\n",
       "      <th>3</th>\n",
       "      <td>4</td>\n",
       "      <td>7</td>\n",
       "      <td>10</td>\n",
       "      <td>0</td>\n",
       "      <td>1</td>\n",
       "      <td>16</td>\n",
       "      <td>1000</td>\n",
       "      <td>0</td>\n",
       "      <td>27</td>\n",
       "      <td>66</td>\n",
       "      <td>17</td>\n",
       "      <td>41</td>\n",
       "      <td>1</td>\n",
       "      <td>35</td>\n",
       "      <td>172556</td>\n",
       "      <td>20</td>\n",
       "      <td>39</td>\n",
       "      <td>67</td>\n",
       "      <td>16</td>\n",
       "      <td>0</td>\n",
       "    </tr>\n",
       "    <tr>\n",
       "      <th>4</th>\n",
       "      <td>2</td>\n",
       "      <td>8</td>\n",
       "      <td>0</td>\n",
       "      <td>98</td>\n",
       "      <td>25</td>\n",
       "      <td>37</td>\n",
       "      <td>576</td>\n",
       "      <td>58</td>\n",
       "      <td>43</td>\n",
       "      <td>113</td>\n",
       "      <td>74</td>\n",
       "      <td>26</td>\n",
       "      <td>3</td>\n",
       "      <td>21</td>\n",
       "      <td>7112</td>\n",
       "      <td>14</td>\n",
       "      <td>6</td>\n",
       "      <td>65</td>\n",
       "      <td>6</td>\n",
       "      <td>0</td>\n",
       "    </tr>\n",
       "  </tbody>\n",
       "</table>\n",
       "</div>"
      ],
      "text/plain": [
       "   RFA_2F  CARDGIFT  HVP1  ETH2  RP1  NGIFTALL   HV1  ETHC5  CARDPROM  \\\n",
       "0       4        14     2     1    2        31   479      0        27   \n",
       "1       2         1    97     0   91         3  5468      0        12   \n",
       "2       4        14     0     2    0        27   497      1        26   \n",
       "3       4         7    10     0    1        16  1000      0        27   \n",
       "4       2         8     0    98   25        37   576     58        43   \n",
       "\n",
       "   NUMPROM  RP3  CLUSTER2  INCOME  IC15  CONTROLN  HHAS4  HC6  POBC2  MHUC1  \\\n",
       "0       74   17        39       5     4     95515      1   31     74      6   \n",
       "1       32   91         1       6     2    148535      3   97     39     20   \n",
       "2       63    9        60       3    20     15078     11   50     84      9   \n",
       "3       66   17        41       1    35    172556     20   39     67     16   \n",
       "4      113   74        26       3    21      7112     14    6     65      6   \n",
       "\n",
       "   TARGET_B  \n",
       "0         0  \n",
       "1         0  \n",
       "2         0  \n",
       "3         0  \n",
       "4         0  "
      ]
     },
     "execution_count": 14,
     "metadata": {},
     "output_type": "execute_result"
    }
   ],
   "source": [
    "data.head()"
   ]
  },
  {
   "cell_type": "code",
   "execution_count": 15,
   "id": "55f3bce4",
   "metadata": {
    "code_folding": []
   },
   "outputs": [
    {
     "name": "stdout",
     "output_type": "stream",
     "text": [
      "(4843, 20)\n",
      "(4843, 20)\n",
      "(90569, 20)\n",
      "(90569, 20)\n"
     ]
    }
   ],
   "source": [
    "from sklearn.utils import resample\n",
    "####\n",
    "# splitting target values\n",
    "#####\n",
    "category_0 = data[data.TARGET_B == 0]  # would be train set, 0= majority\n",
    "category_1 = data[data.TARGET_B == 1]  # minority\n",
    "\n",
    "####\n",
    "# downsampling\n",
    "######\n",
    "category_0_undersampled = resample(category_0, \n",
    "                                   replace=False, \n",
    "                                   n_samples = len(category_1))\n",
    "print(category_0_undersampled.shape)\n",
    "print(category_1.shape)\n",
    "data_downsampled = pd.concat([category_0_undersampled, category_1], axis=0)\n",
    "\n",
    "#####\n",
    "# upsampling\n",
    "######\n",
    "category_1_oversampled = resample(category_1, \n",
    "                                  replace=True, # copying existing column to reach max columns\n",
    "                                  n_samples = len(category_0))\n",
    "print(category_1_oversampled.shape)\n",
    "print(category_0.shape)\n",
    "data_upsampled = pd.concat([category_0, category_1_oversampled], axis=0)"
   ]
  },
  {
   "cell_type": "markdown",
   "id": "3c77801d",
   "metadata": {},
   "source": [
    "# Logistic Regression with balanced target\n",
    "<a class=\"anchor\" id=\"#5\"></a>"
   ]
  },
  {
   "cell_type": "code",
   "execution_count": 16,
   "id": "b6062394",
   "metadata": {},
   "outputs": [],
   "source": [
    "def log_reg(df):\n",
    "    \n",
    "    ####\n",
    "    # x - y - split\n",
    "    #####\n",
    "    features = df.drop(['TARGET_B'],axis=1)\n",
    "    target = df['TARGET_B']\n",
    "    \n",
    "    ####\n",
    "    # train - test - split\n",
    "    #####\n",
    "    X_train, X_test, y_train, y_test = train_test_split(features, target, test_size=0.25)\n",
    "    \n",
    "    ####\n",
    "    # scaling Xtrain in scaler\n",
    "    #####\n",
    "    transformer = MinMaxScaler().fit(X_train)\n",
    "    num_train_minmax = transformer.transform(X_train)\n",
    "    num_test_minmax = transformer.transform(X_test)\n",
    "    \n",
    "    #####\n",
    "    # fitting train set in model\n",
    "    ######\n",
    "    classifier = LogisticRegression(max_iter = 1337)\n",
    "    classifier.fit(X_train, y_train)\n",
    "    \n",
    "    ####\n",
    "    # metrics\n",
    "    #####\n",
    "    score_1 = classifier.score(X_train, y_train)\n",
    "    score_2 = classifier.score(X_test, y_test)\n",
    "    \n",
    "    return print('train',score_1,'\\n''test',score_2,'\\n')"
   ]
  },
  {
   "cell_type": "code",
   "execution_count": 17,
   "id": "c6846e67",
   "metadata": {
    "scrolled": true
   },
   "outputs": [
    {
     "name": "stdout",
     "output_type": "stream",
     "text": [
      "train 0.9489372405986668 \n",
      "test 0.9498176330021381 \n",
      "\n",
      "train 0.5404735682819384 \n",
      "test 0.555739058629232 \n",
      "\n",
      "train 0.5347912817530713 \n",
      "test 0.5343049574914431 \n",
      "\n"
     ]
    }
   ],
   "source": [
    "log_reg(data_imbalanced)\n",
    "log_reg(data_downsampled)\n",
    "log_reg(data_upsampled)"
   ]
  },
  {
   "cell_type": "code",
   "execution_count": 211,
   "id": "161b2610",
   "metadata": {
    "code_folding": []
   },
   "outputs": [],
   "source": [
    "# from sklearn.model_selection import RandomizedSearchCV\n",
    "\n",
    "# max_iter = [1000,1337,2000,10000,20000]\n",
    "# solver =  ['newton-cg', 'lbfgs', 'liblinear', 'sag', 'saga']\n",
    "\n",
    "# random_grid = {'max_iter': max_iter, 'solver': solver}\n",
    "# model = LogisticRegression()\n",
    "# random_search = RandomizedSearchCV(estimator = model,\n",
    "#                                    param_distributions = random_grid,\n",
    "#                                    n_iter=10, # number of random combinations\n",
    "#                                    cv = 5,\n",
    "#                                    n_jobs = 10) # multithreading cpus\n",
    "\n"
   ]
  },
  {
   "cell_type": "code",
   "execution_count": 212,
   "id": "250d50ca",
   "metadata": {
    "code_folding": [
     0
    ]
   },
   "outputs": [],
   "source": [
    "# random_search.fit(X_train,y_train)\n",
    "# print(random_search.best_params_)\n",
    "# print(random_search.best_score_)"
   ]
  },
  {
   "cell_type": "markdown",
   "id": "0953d183",
   "metadata": {},
   "source": [
    "# Random Forests\n",
    "<a class=\"anchor\" id=\"#6\"></a>"
   ]
  },
  {
   "cell_type": "code",
   "execution_count": 18,
   "id": "4ab7db48",
   "metadata": {
    "scrolled": true
   },
   "outputs": [
    {
     "data": {
      "text/html": [
       "<div>\n",
       "<style scoped>\n",
       "    .dataframe tbody tr th:only-of-type {\n",
       "        vertical-align: middle;\n",
       "    }\n",
       "\n",
       "    .dataframe tbody tr th {\n",
       "        vertical-align: top;\n",
       "    }\n",
       "\n",
       "    .dataframe thead th {\n",
       "        text-align: right;\n",
       "    }\n",
       "</style>\n",
       "<table border=\"1\" class=\"dataframe\">\n",
       "  <thead>\n",
       "    <tr style=\"text-align: right;\">\n",
       "      <th></th>\n",
       "      <th>RFA_2F</th>\n",
       "      <th>CARDGIFT</th>\n",
       "      <th>HVP1</th>\n",
       "      <th>ETH2</th>\n",
       "      <th>RP1</th>\n",
       "      <th>NGIFTALL</th>\n",
       "      <th>HV1</th>\n",
       "      <th>ETHC5</th>\n",
       "      <th>CARDPROM</th>\n",
       "      <th>NUMPROM</th>\n",
       "      <th>RP3</th>\n",
       "      <th>CLUSTER2</th>\n",
       "      <th>INCOME</th>\n",
       "      <th>IC15</th>\n",
       "      <th>CONTROLN</th>\n",
       "      <th>HHAS4</th>\n",
       "      <th>HC6</th>\n",
       "      <th>POBC2</th>\n",
       "      <th>MHUC1</th>\n",
       "      <th>TARGET_B</th>\n",
       "    </tr>\n",
       "  </thead>\n",
       "  <tbody>\n",
       "    <tr>\n",
       "      <th>0</th>\n",
       "      <td>4</td>\n",
       "      <td>14</td>\n",
       "      <td>2</td>\n",
       "      <td>1</td>\n",
       "      <td>2</td>\n",
       "      <td>31</td>\n",
       "      <td>479</td>\n",
       "      <td>0</td>\n",
       "      <td>27</td>\n",
       "      <td>74</td>\n",
       "      <td>17</td>\n",
       "      <td>39</td>\n",
       "      <td>5</td>\n",
       "      <td>4</td>\n",
       "      <td>95515</td>\n",
       "      <td>1</td>\n",
       "      <td>31</td>\n",
       "      <td>74</td>\n",
       "      <td>6</td>\n",
       "      <td>0</td>\n",
       "    </tr>\n",
       "    <tr>\n",
       "      <th>1</th>\n",
       "      <td>2</td>\n",
       "      <td>1</td>\n",
       "      <td>97</td>\n",
       "      <td>0</td>\n",
       "      <td>91</td>\n",
       "      <td>3</td>\n",
       "      <td>5468</td>\n",
       "      <td>0</td>\n",
       "      <td>12</td>\n",
       "      <td>32</td>\n",
       "      <td>91</td>\n",
       "      <td>1</td>\n",
       "      <td>6</td>\n",
       "      <td>2</td>\n",
       "      <td>148535</td>\n",
       "      <td>3</td>\n",
       "      <td>97</td>\n",
       "      <td>39</td>\n",
       "      <td>20</td>\n",
       "      <td>0</td>\n",
       "    </tr>\n",
       "    <tr>\n",
       "      <th>2</th>\n",
       "      <td>4</td>\n",
       "      <td>14</td>\n",
       "      <td>0</td>\n",
       "      <td>2</td>\n",
       "      <td>0</td>\n",
       "      <td>27</td>\n",
       "      <td>497</td>\n",
       "      <td>1</td>\n",
       "      <td>26</td>\n",
       "      <td>63</td>\n",
       "      <td>9</td>\n",
       "      <td>60</td>\n",
       "      <td>3</td>\n",
       "      <td>20</td>\n",
       "      <td>15078</td>\n",
       "      <td>11</td>\n",
       "      <td>50</td>\n",
       "      <td>84</td>\n",
       "      <td>9</td>\n",
       "      <td>0</td>\n",
       "    </tr>\n",
       "    <tr>\n",
       "      <th>3</th>\n",
       "      <td>4</td>\n",
       "      <td>7</td>\n",
       "      <td>10</td>\n",
       "      <td>0</td>\n",
       "      <td>1</td>\n",
       "      <td>16</td>\n",
       "      <td>1000</td>\n",
       "      <td>0</td>\n",
       "      <td>27</td>\n",
       "      <td>66</td>\n",
       "      <td>17</td>\n",
       "      <td>41</td>\n",
       "      <td>1</td>\n",
       "      <td>35</td>\n",
       "      <td>172556</td>\n",
       "      <td>20</td>\n",
       "      <td>39</td>\n",
       "      <td>67</td>\n",
       "      <td>16</td>\n",
       "      <td>0</td>\n",
       "    </tr>\n",
       "    <tr>\n",
       "      <th>4</th>\n",
       "      <td>2</td>\n",
       "      <td>8</td>\n",
       "      <td>0</td>\n",
       "      <td>98</td>\n",
       "      <td>25</td>\n",
       "      <td>37</td>\n",
       "      <td>576</td>\n",
       "      <td>58</td>\n",
       "      <td>43</td>\n",
       "      <td>113</td>\n",
       "      <td>74</td>\n",
       "      <td>26</td>\n",
       "      <td>3</td>\n",
       "      <td>21</td>\n",
       "      <td>7112</td>\n",
       "      <td>14</td>\n",
       "      <td>6</td>\n",
       "      <td>65</td>\n",
       "      <td>6</td>\n",
       "      <td>0</td>\n",
       "    </tr>\n",
       "  </tbody>\n",
       "</table>\n",
       "</div>"
      ],
      "text/plain": [
       "   RFA_2F  CARDGIFT  HVP1  ETH2  RP1  NGIFTALL   HV1  ETHC5  CARDPROM  \\\n",
       "0       4        14     2     1    2        31   479      0        27   \n",
       "1       2         1    97     0   91         3  5468      0        12   \n",
       "2       4        14     0     2    0        27   497      1        26   \n",
       "3       4         7    10     0    1        16  1000      0        27   \n",
       "4       2         8     0    98   25        37   576     58        43   \n",
       "\n",
       "   NUMPROM  RP3  CLUSTER2  INCOME  IC15  CONTROLN  HHAS4  HC6  POBC2  MHUC1  \\\n",
       "0       74   17        39       5     4     95515      1   31     74      6   \n",
       "1       32   91         1       6     2    148535      3   97     39     20   \n",
       "2       63    9        60       3    20     15078     11   50     84      9   \n",
       "3       66   17        41       1    35    172556     20   39     67     16   \n",
       "4      113   74        26       3    21      7112     14    6     65      6   \n",
       "\n",
       "   TARGET_B  \n",
       "0         0  \n",
       "1         0  \n",
       "2         0  \n",
       "3         0  \n",
       "4         0  "
      ]
     },
     "execution_count": 18,
     "metadata": {},
     "output_type": "execute_result"
    }
   ],
   "source": [
    "from sklearn.ensemble import RandomForestClassifier,RandomForestRegressor\n",
    "from sklearn.metrics import confusion_matrix\n",
    "\n",
    "data_upsampled.head()"
   ]
  },
  {
   "cell_type": "code",
   "execution_count": 19,
   "id": "9b997fde",
   "metadata": {},
   "outputs": [],
   "source": [
    "def forest(df):\n",
    "    \n",
    "    ####\n",
    "    # x - y - split\n",
    "    #####\n",
    "    features = df.drop(['TARGET_B'],axis=1)\n",
    "    target = df['TARGET_B']\n",
    "    \n",
    "    ####\n",
    "    # train - test - split\n",
    "    #####\n",
    "    X_train, X_test, y_train, y_test = train_test_split(features, target, test_size=0.25)\n",
    "    \n",
    "    ####\n",
    "    # scaling Xtrain in scaler\n",
    "    #####\n",
    "    transformer = MinMaxScaler().fit(X_train)\n",
    "    num_train_minmax = transformer.transform(X_train)\n",
    "    num_test_minmax = transformer.transform(X_test)\n",
    "    \n",
    "    #####\n",
    "    # fitting train set in model\n",
    "    ######\n",
    "    classifier = RandomForestClassifier(max_depth=5, # max number of questions\n",
    "                             min_samples_split=20, # amount of rows still considered at every question\n",
    "                             min_samples_leaf =20, # ultimate answer based on at least this many rows\n",
    "                             max_samples=0.8) # fraction of original dataset\n",
    "                             \n",
    "    classifier.fit(X_train, y_train)\n",
    "    \n",
    "    ####\n",
    "    # metrics\n",
    "    #####\n",
    "    score_1 = classifier.score(X_train, y_train)\n",
    "    score_2 = classifier.score(X_test, y_test)\n",
    "    \n",
    "    ####\n",
    "    # predictions\n",
    "    ####\n",
    "    y_pred = classifier.predict(X_test)\n",
    "    \n",
    "    return print('train',score_1,'\\n''test',score_2,'\\n''\\n','confunsion matrix','\\n''\\n',confusion_matrix(y_test, y_pred),'\\n')"
   ]
  },
  {
   "cell_type": "code",
   "execution_count": 20,
   "id": "b33c5aaf",
   "metadata": {},
   "outputs": [
    {
     "name": "stdout",
     "output_type": "stream",
     "text": [
      "train 0.6045357850029075 \n",
      "test 0.5995583526554047 \n",
      "\n",
      " confunsion matrix \n",
      "\n",
      " [[13777  8812]\n",
      " [ 9322 13374]] \n",
      "\n"
     ]
    }
   ],
   "source": [
    "forest(data_upsampled)"
   ]
  },
  {
   "cell_type": "markdown",
   "id": "6f24c742",
   "metadata": {},
   "source": [
    "## Random Forest Regressor"
   ]
  },
  {
   "cell_type": "code",
   "execution_count": 21,
   "id": "993e1884",
   "metadata": {},
   "outputs": [
    {
     "data": {
      "text/html": [
       "<div>\n",
       "<style scoped>\n",
       "    .dataframe tbody tr th:only-of-type {\n",
       "        vertical-align: middle;\n",
       "    }\n",
       "\n",
       "    .dataframe tbody tr th {\n",
       "        vertical-align: top;\n",
       "    }\n",
       "\n",
       "    .dataframe thead th {\n",
       "        text-align: right;\n",
       "    }\n",
       "</style>\n",
       "<table border=\"1\" class=\"dataframe\">\n",
       "  <thead>\n",
       "    <tr style=\"text-align: right;\">\n",
       "      <th></th>\n",
       "      <th>RFA_2F</th>\n",
       "      <th>CARDGIFT</th>\n",
       "      <th>HVP1</th>\n",
       "      <th>ETH2</th>\n",
       "      <th>RP1</th>\n",
       "      <th>NGIFTALL</th>\n",
       "      <th>HV1</th>\n",
       "      <th>ETHC5</th>\n",
       "      <th>CARDPROM</th>\n",
       "      <th>NUMPROM</th>\n",
       "      <th>RP3</th>\n",
       "      <th>CLUSTER2</th>\n",
       "      <th>INCOME</th>\n",
       "      <th>IC15</th>\n",
       "      <th>CONTROLN</th>\n",
       "      <th>HHAS4</th>\n",
       "      <th>HC6</th>\n",
       "      <th>POBC2</th>\n",
       "      <th>MHUC1</th>\n",
       "      <th>TARGET_D</th>\n",
       "    </tr>\n",
       "  </thead>\n",
       "  <tbody>\n",
       "    <tr>\n",
       "      <th>0</th>\n",
       "      <td>4</td>\n",
       "      <td>14</td>\n",
       "      <td>2</td>\n",
       "      <td>1</td>\n",
       "      <td>2</td>\n",
       "      <td>31</td>\n",
       "      <td>479</td>\n",
       "      <td>0</td>\n",
       "      <td>27</td>\n",
       "      <td>74</td>\n",
       "      <td>17</td>\n",
       "      <td>39</td>\n",
       "      <td>5</td>\n",
       "      <td>4</td>\n",
       "      <td>95515</td>\n",
       "      <td>1</td>\n",
       "      <td>31</td>\n",
       "      <td>74</td>\n",
       "      <td>6</td>\n",
       "      <td>0.0</td>\n",
       "    </tr>\n",
       "    <tr>\n",
       "      <th>1</th>\n",
       "      <td>2</td>\n",
       "      <td>1</td>\n",
       "      <td>97</td>\n",
       "      <td>0</td>\n",
       "      <td>91</td>\n",
       "      <td>3</td>\n",
       "      <td>5468</td>\n",
       "      <td>0</td>\n",
       "      <td>12</td>\n",
       "      <td>32</td>\n",
       "      <td>91</td>\n",
       "      <td>1</td>\n",
       "      <td>6</td>\n",
       "      <td>2</td>\n",
       "      <td>148535</td>\n",
       "      <td>3</td>\n",
       "      <td>97</td>\n",
       "      <td>39</td>\n",
       "      <td>20</td>\n",
       "      <td>0.0</td>\n",
       "    </tr>\n",
       "    <tr>\n",
       "      <th>2</th>\n",
       "      <td>4</td>\n",
       "      <td>14</td>\n",
       "      <td>0</td>\n",
       "      <td>2</td>\n",
       "      <td>0</td>\n",
       "      <td>27</td>\n",
       "      <td>497</td>\n",
       "      <td>1</td>\n",
       "      <td>26</td>\n",
       "      <td>63</td>\n",
       "      <td>9</td>\n",
       "      <td>60</td>\n",
       "      <td>3</td>\n",
       "      <td>20</td>\n",
       "      <td>15078</td>\n",
       "      <td>11</td>\n",
       "      <td>50</td>\n",
       "      <td>84</td>\n",
       "      <td>9</td>\n",
       "      <td>0.0</td>\n",
       "    </tr>\n",
       "    <tr>\n",
       "      <th>3</th>\n",
       "      <td>4</td>\n",
       "      <td>7</td>\n",
       "      <td>10</td>\n",
       "      <td>0</td>\n",
       "      <td>1</td>\n",
       "      <td>16</td>\n",
       "      <td>1000</td>\n",
       "      <td>0</td>\n",
       "      <td>27</td>\n",
       "      <td>66</td>\n",
       "      <td>17</td>\n",
       "      <td>41</td>\n",
       "      <td>1</td>\n",
       "      <td>35</td>\n",
       "      <td>172556</td>\n",
       "      <td>20</td>\n",
       "      <td>39</td>\n",
       "      <td>67</td>\n",
       "      <td>16</td>\n",
       "      <td>0.0</td>\n",
       "    </tr>\n",
       "    <tr>\n",
       "      <th>4</th>\n",
       "      <td>2</td>\n",
       "      <td>8</td>\n",
       "      <td>0</td>\n",
       "      <td>98</td>\n",
       "      <td>25</td>\n",
       "      <td>37</td>\n",
       "      <td>576</td>\n",
       "      <td>58</td>\n",
       "      <td>43</td>\n",
       "      <td>113</td>\n",
       "      <td>74</td>\n",
       "      <td>26</td>\n",
       "      <td>3</td>\n",
       "      <td>21</td>\n",
       "      <td>7112</td>\n",
       "      <td>14</td>\n",
       "      <td>6</td>\n",
       "      <td>65</td>\n",
       "      <td>6</td>\n",
       "      <td>0.0</td>\n",
       "    </tr>\n",
       "  </tbody>\n",
       "</table>\n",
       "</div>"
      ],
      "text/plain": [
       "   RFA_2F  CARDGIFT  HVP1  ETH2  RP1  NGIFTALL   HV1  ETHC5  CARDPROM  \\\n",
       "0       4        14     2     1    2        31   479      0        27   \n",
       "1       2         1    97     0   91         3  5468      0        12   \n",
       "2       4        14     0     2    0        27   497      1        26   \n",
       "3       4         7    10     0    1        16  1000      0        27   \n",
       "4       2         8     0    98   25        37   576     58        43   \n",
       "\n",
       "   NUMPROM  RP3  CLUSTER2  INCOME  IC15  CONTROLN  HHAS4  HC6  POBC2  MHUC1  \\\n",
       "0       74   17        39       5     4     95515      1   31     74      6   \n",
       "1       32   91         1       6     2    148535      3   97     39     20   \n",
       "2       63    9        60       3    20     15078     11   50     84      9   \n",
       "3       66   17        41       1    35    172556     20   39     67     16   \n",
       "4      113   74        26       3    21      7112     14    6     65      6   \n",
       "\n",
       "   TARGET_D  \n",
       "0       0.0  \n",
       "1       0.0  \n",
       "2       0.0  \n",
       "3       0.0  \n",
       "4       0.0  "
      ]
     },
     "execution_count": 21,
     "metadata": {},
     "output_type": "execute_result"
    }
   ],
   "source": [
    "data_imbalanced_2.head()"
   ]
  },
  {
   "cell_type": "code",
   "execution_count": 22,
   "id": "c0ef1cd4",
   "metadata": {
    "scrolled": true
   },
   "outputs": [
    {
     "data": {
      "text/plain": [
       "4843"
      ]
     },
     "execution_count": 22,
     "metadata": {},
     "output_type": "execute_result"
    }
   ],
   "source": [
    "donor = data_imbalanced_2[data_imbalanced_2.TARGET_D>0]\n",
    "len(donor)"
   ]
  },
  {
   "cell_type": "code",
   "execution_count": 23,
   "id": "b86d60c4",
   "metadata": {},
   "outputs": [],
   "source": [
    "def forest_2(df):\n",
    "    \n",
    "    ####\n",
    "    # x - y - split\n",
    "    #####\n",
    "    features = df.drop(['TARGET_D'],axis=1)\n",
    "    target = df['TARGET_D']\n",
    "    \n",
    "    ####\n",
    "    # train - test - split\n",
    "    #####\n",
    "    X_train, X_test, y_train, y_test = train_test_split(features, target, test_size=0.25)\n",
    "    \n",
    "    ####\n",
    "    # scaling Xtrain in scaler\n",
    "    #####\n",
    "    transformer = MinMaxScaler().fit(X_train)\n",
    "    num_train_minmax = transformer.transform(X_train)\n",
    "    num_test_minmax = transformer.transform(X_test)\n",
    "    \n",
    "    #####\n",
    "    # fitting train set in model\n",
    "    ######\n",
    "    classifier = RandomForestRegressor(max_depth=5, # max number of questions\n",
    "                             min_samples_split=20, # amount of rows still considered at every question\n",
    "                             min_samples_leaf =20, # ultimate answer based on at least this many rows\n",
    "                             max_samples=0.8) # fraction of original dataset\n",
    "                             \n",
    "    classifier.fit(X_train, y_train)\n",
    "    \n",
    "    ####\n",
    "    # metrics\n",
    "    #####\n",
    "    score_1 = classifier.score(X_train, y_train)\n",
    "    score_2 = classifier.score(X_test, y_test)\n",
    "    \n",
    "    ####\n",
    "    # predictions\n",
    "    ####\n",
    "    pred = classifier.predict(X_test)\n",
    "    \n",
    "    return print('train',score_1,'\\n''test',score_2,'\\n''\\n','predicted amount''\\n',np.mean(pred))"
   ]
  },
  {
   "cell_type": "code",
   "execution_count": 24,
   "id": "a188da85",
   "metadata": {},
   "outputs": [
    {
     "name": "stdout",
     "output_type": "stream",
     "text": [
      "train 0.23203407969698564 \n",
      "test 0.16884112160575082 \n",
      "\n",
      " predicted amount\n",
      " 15.470438744343241\n"
     ]
    }
   ],
   "source": [
    "forest_2(donor)"
   ]
  },
  {
   "cell_type": "code",
   "execution_count": 25,
   "id": "af1a5a67",
   "metadata": {},
   "outputs": [],
   "source": [
    "mailing_cost = 0.18\n",
    "all_pop = len(target)\n",
    "only_donors = len(donor)\n",
    "av_donation_donors = 15.628022799265295"
   ]
  },
  {
   "cell_type": "code",
   "execution_count": 26,
   "id": "3ffe88e0",
   "metadata": {},
   "outputs": [
    {
     "name": "stdout",
     "output_type": "stream",
     "text": [
      "58512.35 USD DOLLARS\n"
     ]
    }
   ],
   "source": [
    "revenue_all = (only_donors * av_donation_donors) - (all_pop * mailing_cost)\n",
    "print(round(revenue_all,2),'USD DOLLARS')\n"
   ]
  },
  {
   "cell_type": "code",
   "execution_count": 27,
   "id": "2264130a",
   "metadata": {},
   "outputs": [],
   "source": [
    "from sklearn.model_selection import cross_val_score\n",
    "def vali(df):\n",
    "    \n",
    "    features = df.drop(['TARGET_D'],axis=1)\n",
    "    target = df['TARGET_D']\n",
    "    \n",
    "    X_train, X_test, y_train, y_test = train_test_split(features, target, test_size=0.25)\n",
    "\n",
    "    \n",
    "    clf = RandomForestRegressor(max_depth=5,\n",
    "                                 min_samples_split=20,\n",
    "                                 min_samples_leaf =20)\n",
    "    \n",
    "    cross_val_scores = cross_val_score(clf, X_train, y_train, cv=10)\n",
    "    return print(np.mean(cross_val_scores))\n"
   ]
  },
  {
   "cell_type": "code",
   "execution_count": 28,
   "id": "80c79bed",
   "metadata": {
    "scrolled": true
   },
   "outputs": [
    {
     "name": "stdout",
     "output_type": "stream",
     "text": [
      "0.17208259504166645\n"
     ]
    }
   ],
   "source": [
    "vali(donor)"
   ]
  },
  {
   "cell_type": "code",
   "execution_count": null,
   "id": "546e5115",
   "metadata": {},
   "outputs": [],
   "source": [
    "# num_2"
   ]
  },
  {
   "cell_type": "code",
   "execution_count": null,
   "id": "586b123e",
   "metadata": {},
   "outputs": [],
   "source": []
  }
 ],
 "metadata": {
  "kernelspec": {
   "display_name": "Python 3 (ipykernel)",
   "language": "python",
   "name": "python3"
  },
  "language_info": {
   "codemirror_mode": {
    "name": "ipython",
    "version": 3
   },
   "file_extension": ".py",
   "mimetype": "text/x-python",
   "name": "python",
   "nbconvert_exporter": "python",
   "pygments_lexer": "ipython3",
   "version": "3.9.7"
  }
 },
 "nbformat": 4,
 "nbformat_minor": 5
}
